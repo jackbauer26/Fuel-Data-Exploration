{
 "cells": [
  {
   "cell_type": "code",
   "execution_count": 1,
   "metadata": {},
   "outputs": [],
   "source": [
    "import pandas as pd\n",
    "import numpy as np\n",
    "import seaborn as sns\n",
    "import matplotlib.pyplot as plt"
   ]
  },
  {
   "cell_type": "code",
   "execution_count": 2,
   "metadata": {},
   "outputs": [],
   "source": [
    "df = pd.read_csv('fuel_ferc1.csv', index_col='record_id')"
   ]
  },
  {
   "cell_type": "code",
   "execution_count": 3,
   "metadata": {
    "scrolled": true
   },
   "outputs": [
    {
     "data": {
      "text/html": [
       "<div>\n",
       "<style scoped>\n",
       "    .dataframe tbody tr th:only-of-type {\n",
       "        vertical-align: middle;\n",
       "    }\n",
       "\n",
       "    .dataframe tbody tr th {\n",
       "        vertical-align: top;\n",
       "    }\n",
       "\n",
       "    .dataframe thead th {\n",
       "        text-align: right;\n",
       "    }\n",
       "</style>\n",
       "<table border=\"1\" class=\"dataframe\">\n",
       "  <thead>\n",
       "    <tr style=\"text-align: right;\">\n",
       "      <th></th>\n",
       "      <th>utility_id_ferc1</th>\n",
       "      <th>report_year</th>\n",
       "      <th>plant_name_ferc1</th>\n",
       "      <th>fuel_type_code_pudl</th>\n",
       "      <th>fuel_unit</th>\n",
       "      <th>fuel_qty_burned</th>\n",
       "      <th>fuel_mmbtu_per_unit</th>\n",
       "      <th>fuel_cost_per_unit_burned</th>\n",
       "      <th>fuel_cost_per_unit_delivered</th>\n",
       "      <th>fuel_cost_per_mmbtu</th>\n",
       "    </tr>\n",
       "    <tr>\n",
       "      <th>record_id</th>\n",
       "      <th></th>\n",
       "      <th></th>\n",
       "      <th></th>\n",
       "      <th></th>\n",
       "      <th></th>\n",
       "      <th></th>\n",
       "      <th></th>\n",
       "      <th></th>\n",
       "      <th></th>\n",
       "      <th></th>\n",
       "    </tr>\n",
       "  </thead>\n",
       "  <tbody>\n",
       "    <tr>\n",
       "      <th>f1_fuel_1994_12_1_0_7</th>\n",
       "      <td>1</td>\n",
       "      <td>1994</td>\n",
       "      <td>rockport</td>\n",
       "      <td>coal</td>\n",
       "      <td>ton</td>\n",
       "      <td>5377489.0</td>\n",
       "      <td>16.590</td>\n",
       "      <td>18.59</td>\n",
       "      <td>18.53</td>\n",
       "      <td>1.121</td>\n",
       "    </tr>\n",
       "    <tr>\n",
       "      <th>f1_fuel_1994_12_1_0_10</th>\n",
       "      <td>1</td>\n",
       "      <td>1994</td>\n",
       "      <td>rockport total plant</td>\n",
       "      <td>coal</td>\n",
       "      <td>ton</td>\n",
       "      <td>10486945.0</td>\n",
       "      <td>16.592</td>\n",
       "      <td>18.58</td>\n",
       "      <td>18.53</td>\n",
       "      <td>1.120</td>\n",
       "    </tr>\n",
       "    <tr>\n",
       "      <th>f1_fuel_1994_12_2_0_1</th>\n",
       "      <td>2</td>\n",
       "      <td>1994</td>\n",
       "      <td>gorgas</td>\n",
       "      <td>coal</td>\n",
       "      <td>ton</td>\n",
       "      <td>2978683.0</td>\n",
       "      <td>24.130</td>\n",
       "      <td>39.72</td>\n",
       "      <td>38.12</td>\n",
       "      <td>1.650</td>\n",
       "    </tr>\n",
       "    <tr>\n",
       "      <th>f1_fuel_1994_12_2_0_7</th>\n",
       "      <td>2</td>\n",
       "      <td>1994</td>\n",
       "      <td>barry</td>\n",
       "      <td>coal</td>\n",
       "      <td>ton</td>\n",
       "      <td>3739484.0</td>\n",
       "      <td>23.950</td>\n",
       "      <td>47.21</td>\n",
       "      <td>45.99</td>\n",
       "      <td>1.970</td>\n",
       "    </tr>\n",
       "    <tr>\n",
       "      <th>f1_fuel_1994_12_2_0_10</th>\n",
       "      <td>2</td>\n",
       "      <td>1994</td>\n",
       "      <td>chickasaw</td>\n",
       "      <td>gas</td>\n",
       "      <td>mcf</td>\n",
       "      <td>40533.0</td>\n",
       "      <td>1.000</td>\n",
       "      <td>2.77</td>\n",
       "      <td>2.77</td>\n",
       "      <td>2.570</td>\n",
       "    </tr>\n",
       "    <tr>\n",
       "      <th>...</th>\n",
       "      <td>...</td>\n",
       "      <td>...</td>\n",
       "      <td>...</td>\n",
       "      <td>...</td>\n",
       "      <td>...</td>\n",
       "      <td>...</td>\n",
       "      <td>...</td>\n",
       "      <td>...</td>\n",
       "      <td>...</td>\n",
       "      <td>...</td>\n",
       "    </tr>\n",
       "    <tr>\n",
       "      <th>f1_fuel_2018_12_12_0_13</th>\n",
       "      <td>12</td>\n",
       "      <td>2018</td>\n",
       "      <td>neil simpson ct 1</td>\n",
       "      <td>gas</td>\n",
       "      <td>mcf</td>\n",
       "      <td>18799.0</td>\n",
       "      <td>1.059</td>\n",
       "      <td>4.78</td>\n",
       "      <td>4.78</td>\n",
       "      <td>9.030</td>\n",
       "    </tr>\n",
       "    <tr>\n",
       "      <th>f1_fuel_2018_12_12_1_1</th>\n",
       "      <td>12</td>\n",
       "      <td>2018</td>\n",
       "      <td>cheyenne prairie 58</td>\n",
       "      <td>gas</td>\n",
       "      <td>mcf</td>\n",
       "      <td>806730.0</td>\n",
       "      <td>1.050</td>\n",
       "      <td>3.65</td>\n",
       "      <td>3.65</td>\n",
       "      <td>6.950</td>\n",
       "    </tr>\n",
       "    <tr>\n",
       "      <th>f1_fuel_2018_12_12_1_10</th>\n",
       "      <td>12</td>\n",
       "      <td>2018</td>\n",
       "      <td>lange ct facility</td>\n",
       "      <td>gas</td>\n",
       "      <td>mcf</td>\n",
       "      <td>104554.0</td>\n",
       "      <td>1.060</td>\n",
       "      <td>4.77</td>\n",
       "      <td>4.77</td>\n",
       "      <td>8.990</td>\n",
       "    </tr>\n",
       "    <tr>\n",
       "      <th>f1_fuel_2018_12_12_1_13</th>\n",
       "      <td>12</td>\n",
       "      <td>2018</td>\n",
       "      <td>wygen 3 bhp 52</td>\n",
       "      <td>coal</td>\n",
       "      <td>ton</td>\n",
       "      <td>315945.0</td>\n",
       "      <td>16.108</td>\n",
       "      <td>3.06</td>\n",
       "      <td>14.76</td>\n",
       "      <td>1.110</td>\n",
       "    </tr>\n",
       "    <tr>\n",
       "      <th>f1_fuel_2018_12_12_1_14</th>\n",
       "      <td>12</td>\n",
       "      <td>2018</td>\n",
       "      <td>wygen 3 bhp 52</td>\n",
       "      <td>gas</td>\n",
       "      <td>mcf</td>\n",
       "      <td>17853.0</td>\n",
       "      <td>1.059</td>\n",
       "      <td>0.00</td>\n",
       "      <td>0.00</td>\n",
       "      <td>11.680</td>\n",
       "    </tr>\n",
       "  </tbody>\n",
       "</table>\n",
       "<p>29523 rows × 10 columns</p>\n",
       "</div>"
      ],
      "text/plain": [
       "                         utility_id_ferc1  report_year      plant_name_ferc1  \\\n",
       "record_id                                                                      \n",
       "f1_fuel_1994_12_1_0_7                   1         1994              rockport   \n",
       "f1_fuel_1994_12_1_0_10                  1         1994  rockport total plant   \n",
       "f1_fuel_1994_12_2_0_1                   2         1994                gorgas   \n",
       "f1_fuel_1994_12_2_0_7                   2         1994                 barry   \n",
       "f1_fuel_1994_12_2_0_10                  2         1994             chickasaw   \n",
       "...                                   ...          ...                   ...   \n",
       "f1_fuel_2018_12_12_0_13                12         2018     neil simpson ct 1   \n",
       "f1_fuel_2018_12_12_1_1                 12         2018   cheyenne prairie 58   \n",
       "f1_fuel_2018_12_12_1_10                12         2018     lange ct facility   \n",
       "f1_fuel_2018_12_12_1_13                12         2018        wygen 3 bhp 52   \n",
       "f1_fuel_2018_12_12_1_14                12         2018        wygen 3 bhp 52   \n",
       "\n",
       "                        fuel_type_code_pudl fuel_unit  fuel_qty_burned  \\\n",
       "record_id                                                                \n",
       "f1_fuel_1994_12_1_0_7                  coal       ton        5377489.0   \n",
       "f1_fuel_1994_12_1_0_10                 coal       ton       10486945.0   \n",
       "f1_fuel_1994_12_2_0_1                  coal       ton        2978683.0   \n",
       "f1_fuel_1994_12_2_0_7                  coal       ton        3739484.0   \n",
       "f1_fuel_1994_12_2_0_10                  gas       mcf          40533.0   \n",
       "...                                     ...       ...              ...   \n",
       "f1_fuel_2018_12_12_0_13                 gas       mcf          18799.0   \n",
       "f1_fuel_2018_12_12_1_1                  gas       mcf         806730.0   \n",
       "f1_fuel_2018_12_12_1_10                 gas       mcf         104554.0   \n",
       "f1_fuel_2018_12_12_1_13                coal       ton         315945.0   \n",
       "f1_fuel_2018_12_12_1_14                 gas       mcf          17853.0   \n",
       "\n",
       "                         fuel_mmbtu_per_unit  fuel_cost_per_unit_burned  \\\n",
       "record_id                                                                 \n",
       "f1_fuel_1994_12_1_0_7                 16.590                      18.59   \n",
       "f1_fuel_1994_12_1_0_10                16.592                      18.58   \n",
       "f1_fuel_1994_12_2_0_1                 24.130                      39.72   \n",
       "f1_fuel_1994_12_2_0_7                 23.950                      47.21   \n",
       "f1_fuel_1994_12_2_0_10                 1.000                       2.77   \n",
       "...                                      ...                        ...   \n",
       "f1_fuel_2018_12_12_0_13                1.059                       4.78   \n",
       "f1_fuel_2018_12_12_1_1                 1.050                       3.65   \n",
       "f1_fuel_2018_12_12_1_10                1.060                       4.77   \n",
       "f1_fuel_2018_12_12_1_13               16.108                       3.06   \n",
       "f1_fuel_2018_12_12_1_14                1.059                       0.00   \n",
       "\n",
       "                         fuel_cost_per_unit_delivered  fuel_cost_per_mmbtu  \n",
       "record_id                                                                   \n",
       "f1_fuel_1994_12_1_0_7                           18.53                1.121  \n",
       "f1_fuel_1994_12_1_0_10                          18.53                1.120  \n",
       "f1_fuel_1994_12_2_0_1                           38.12                1.650  \n",
       "f1_fuel_1994_12_2_0_7                           45.99                1.970  \n",
       "f1_fuel_1994_12_2_0_10                           2.77                2.570  \n",
       "...                                               ...                  ...  \n",
       "f1_fuel_2018_12_12_0_13                          4.78                9.030  \n",
       "f1_fuel_2018_12_12_1_1                           3.65                6.950  \n",
       "f1_fuel_2018_12_12_1_10                          4.77                8.990  \n",
       "f1_fuel_2018_12_12_1_13                         14.76                1.110  \n",
       "f1_fuel_2018_12_12_1_14                          0.00               11.680  \n",
       "\n",
       "[29523 rows x 10 columns]"
      ]
     },
     "execution_count": 3,
     "metadata": {},
     "output_type": "execute_result"
    }
   ],
   "source": [
    "df['plant_name_ferc1'] = df['plant_name_ferc1'].str.replace('%','')\n",
    "df['plant_name_ferc1'] = df['plant_name_ferc1'].str.replace('#','')\n",
    "df"
   ]
  },
  {
   "cell_type": "code",
   "execution_count": 4,
   "metadata": {},
   "outputs": [
    {
     "name": "stdout",
     "output_type": "stream",
     "text": [
      "<class 'pandas.core.frame.DataFrame'>\n",
      "Index: 29523 entries, f1_fuel_1994_12_1_0_7 to f1_fuel_2018_12_12_1_14\n",
      "Data columns (total 10 columns):\n",
      " #   Column                        Non-Null Count  Dtype  \n",
      "---  ------                        --------------  -----  \n",
      " 0   utility_id_ferc1              29523 non-null  int64  \n",
      " 1   report_year                   29523 non-null  int64  \n",
      " 2   plant_name_ferc1              29523 non-null  object \n",
      " 3   fuel_type_code_pudl           29523 non-null  object \n",
      " 4   fuel_unit                     29343 non-null  object \n",
      " 5   fuel_qty_burned               29523 non-null  float64\n",
      " 6   fuel_mmbtu_per_unit           29523 non-null  float64\n",
      " 7   fuel_cost_per_unit_burned     29523 non-null  float64\n",
      " 8   fuel_cost_per_unit_delivered  29523 non-null  float64\n",
      " 9   fuel_cost_per_mmbtu           29523 non-null  float64\n",
      "dtypes: float64(5), int64(2), object(3)\n",
      "memory usage: 2.5+ MB\n"
     ]
    }
   ],
   "source": [
    "# Quick bird-eye view of the dataset information. The dataset contains\n",
    "# 3 object datatypes, 5 floating datatypes and 2 integer datatypes.\n",
    "df.info()"
   ]
  },
  {
   "cell_type": "code",
   "execution_count": 5,
   "metadata": {},
   "outputs": [
    {
     "data": {
      "text/plain": [
       "utility_id_ferc1                  0\n",
       "report_year                       0\n",
       "plant_name_ferc1                  0\n",
       "fuel_type_code_pudl               0\n",
       "fuel_unit                       180\n",
       "fuel_qty_burned                   0\n",
       "fuel_mmbtu_per_unit               0\n",
       "fuel_cost_per_unit_burned         0\n",
       "fuel_cost_per_unit_delivered      0\n",
       "fuel_cost_per_mmbtu               0\n",
       "dtype: int64"
      ]
     },
     "execution_count": 5,
     "metadata": {},
     "output_type": "execute_result"
    }
   ],
   "source": [
    "df.isnull().sum()"
   ]
  },
  {
   "cell_type": "code",
   "execution_count": 6,
   "metadata": {},
   "outputs": [
    {
     "data": {
      "text/html": [
       "<div>\n",
       "<style scoped>\n",
       "    .dataframe tbody tr th:only-of-type {\n",
       "        vertical-align: middle;\n",
       "    }\n",
       "\n",
       "    .dataframe tbody tr th {\n",
       "        vertical-align: top;\n",
       "    }\n",
       "\n",
       "    .dataframe thead th {\n",
       "        text-align: right;\n",
       "    }\n",
       "</style>\n",
       "<table border=\"1\" class=\"dataframe\">\n",
       "  <thead>\n",
       "    <tr style=\"text-align: right;\">\n",
       "      <th></th>\n",
       "      <th>utility_id_ferc1</th>\n",
       "      <th>report_year</th>\n",
       "      <th>fuel_qty_burned</th>\n",
       "      <th>fuel_mmbtu_per_unit</th>\n",
       "      <th>fuel_cost_per_unit_burned</th>\n",
       "      <th>fuel_cost_per_unit_delivered</th>\n",
       "      <th>fuel_cost_per_mmbtu</th>\n",
       "    </tr>\n",
       "  </thead>\n",
       "  <tbody>\n",
       "    <tr>\n",
       "      <th>count</th>\n",
       "      <td>29523.000000</td>\n",
       "      <td>29523.000000</td>\n",
       "      <td>2.952300e+04</td>\n",
       "      <td>29523.000000</td>\n",
       "      <td>29523.000000</td>\n",
       "      <td>2.952300e+04</td>\n",
       "      <td>29523.000000</td>\n",
       "    </tr>\n",
       "    <tr>\n",
       "      <th>mean</th>\n",
       "      <td>118.601836</td>\n",
       "      <td>2005.806050</td>\n",
       "      <td>2.622119e+06</td>\n",
       "      <td>8.492111</td>\n",
       "      <td>208.649031</td>\n",
       "      <td>9.175704e+02</td>\n",
       "      <td>19.304354</td>\n",
       "    </tr>\n",
       "    <tr>\n",
       "      <th>std</th>\n",
       "      <td>74.178353</td>\n",
       "      <td>7.025483</td>\n",
       "      <td>9.118004e+06</td>\n",
       "      <td>10.600220</td>\n",
       "      <td>2854.490090</td>\n",
       "      <td>6.877593e+04</td>\n",
       "      <td>2091.540939</td>\n",
       "    </tr>\n",
       "    <tr>\n",
       "      <th>min</th>\n",
       "      <td>1.000000</td>\n",
       "      <td>1994.000000</td>\n",
       "      <td>1.000000e+00</td>\n",
       "      <td>0.000001</td>\n",
       "      <td>-276.080000</td>\n",
       "      <td>-8.749370e+02</td>\n",
       "      <td>-41.501000</td>\n",
       "    </tr>\n",
       "    <tr>\n",
       "      <th>25%</th>\n",
       "      <td>55.000000</td>\n",
       "      <td>2000.000000</td>\n",
       "      <td>1.381700e+04</td>\n",
       "      <td>1.024000</td>\n",
       "      <td>5.207000</td>\n",
       "      <td>3.778500e+00</td>\n",
       "      <td>1.940000</td>\n",
       "    </tr>\n",
       "    <tr>\n",
       "      <th>50%</th>\n",
       "      <td>122.000000</td>\n",
       "      <td>2006.000000</td>\n",
       "      <td>2.533220e+05</td>\n",
       "      <td>5.762694</td>\n",
       "      <td>26.000000</td>\n",
       "      <td>1.737100e+01</td>\n",
       "      <td>4.127000</td>\n",
       "    </tr>\n",
       "    <tr>\n",
       "      <th>75%</th>\n",
       "      <td>176.000000</td>\n",
       "      <td>2012.000000</td>\n",
       "      <td>1.424034e+06</td>\n",
       "      <td>17.006000</td>\n",
       "      <td>47.113000</td>\n",
       "      <td>4.213700e+01</td>\n",
       "      <td>7.745000</td>\n",
       "    </tr>\n",
       "    <tr>\n",
       "      <th>max</th>\n",
       "      <td>514.000000</td>\n",
       "      <td>2018.000000</td>\n",
       "      <td>5.558942e+08</td>\n",
       "      <td>341.260000</td>\n",
       "      <td>139358.000000</td>\n",
       "      <td>7.964521e+06</td>\n",
       "      <td>359278.000000</td>\n",
       "    </tr>\n",
       "  </tbody>\n",
       "</table>\n",
       "</div>"
      ],
      "text/plain": [
       "       utility_id_ferc1   report_year  fuel_qty_burned  fuel_mmbtu_per_unit  \\\n",
       "count      29523.000000  29523.000000     2.952300e+04         29523.000000   \n",
       "mean         118.601836   2005.806050     2.622119e+06             8.492111   \n",
       "std           74.178353      7.025483     9.118004e+06            10.600220   \n",
       "min            1.000000   1994.000000     1.000000e+00             0.000001   \n",
       "25%           55.000000   2000.000000     1.381700e+04             1.024000   \n",
       "50%          122.000000   2006.000000     2.533220e+05             5.762694   \n",
       "75%          176.000000   2012.000000     1.424034e+06            17.006000   \n",
       "max          514.000000   2018.000000     5.558942e+08           341.260000   \n",
       "\n",
       "       fuel_cost_per_unit_burned  fuel_cost_per_unit_delivered  \\\n",
       "count               29523.000000                  2.952300e+04   \n",
       "mean                  208.649031                  9.175704e+02   \n",
       "std                  2854.490090                  6.877593e+04   \n",
       "min                  -276.080000                 -8.749370e+02   \n",
       "25%                     5.207000                  3.778500e+00   \n",
       "50%                    26.000000                  1.737100e+01   \n",
       "75%                    47.113000                  4.213700e+01   \n",
       "max                139358.000000                  7.964521e+06   \n",
       "\n",
       "       fuel_cost_per_mmbtu  \n",
       "count         29523.000000  \n",
       "mean             19.304354  \n",
       "std            2091.540939  \n",
       "min             -41.501000  \n",
       "25%               1.940000  \n",
       "50%               4.127000  \n",
       "75%               7.745000  \n",
       "max          359278.000000  "
      ]
     },
     "execution_count": 6,
     "metadata": {},
     "output_type": "execute_result"
    }
   ],
   "source": [
    "df.describe()"
   ]
  },
  {
   "cell_type": "code",
   "execution_count": 7,
   "metadata": {},
   "outputs": [
    {
     "data": {
      "text/plain": [
       "array(['ton', 'mcf', 'kgU', 'bbl', 'gramsU', nan, 'mwdth', 'mmbtu',\n",
       "       'mwhth', 'gal'], dtype=object)"
      ]
     },
     "execution_count": 7,
     "metadata": {},
     "output_type": "execute_result"
    }
   ],
   "source": [
    "df['fuel_unit'].unique()"
   ]
  },
  {
   "cell_type": "code",
   "execution_count": 8,
   "metadata": {},
   "outputs": [],
   "source": [
    "# This code drops any row in the dataset that matches exactly another one across all features\n",
    "df1= df.drop_duplicates()"
   ]
  },
  {
   "cell_type": "code",
   "execution_count": 9,
   "metadata": {},
   "outputs": [
    {
     "data": {
      "text/plain": [
       "array(['coal', 'gas', 'nuclear', 'oil', 'waste', 'other'], dtype=object)"
      ]
     },
     "execution_count": 9,
     "metadata": {},
     "output_type": "execute_result"
    }
   ],
   "source": [
    "df1['fuel_type_code_pudl'].unique()"
   ]
  },
  {
   "cell_type": "markdown",
   "metadata": {},
   "source": [
    "## Simple Visual of fuel type usage\n",
    "\n",
    "From the histogram below, it is seen that the gas fuel type recorded the highest usage. \n",
    "This implies that, a higher number of plant use coal as a source of energy generation. \n",
    "This is closely followed by the coal and oil fuel type respectively. The other fuel type\n",
    "recorded the lowest usage by plants to generate energy.\n"
   ]
  },
  {
   "cell_type": "code",
   "execution_count": 10,
   "metadata": {
    "scrolled": true
   },
   "outputs": [
    {
     "data": {
      "image/png": "[encoded data removed]",
      "text/plain": [
       "<Figure size 432x288 with 1 Axes>"
      ]
     },
     "metadata": {
      "needs_background": "light"
     },
     "output_type": "display_data"
    }
   ],
   "source": [
    "#plt.figure(figsize=(8,8))\n",
    "df1['fuel_type_code_pudl'].hist(log=True)\n",
    "plt.xticks(rotation=45)\n",
    "plt.xlabel('Fuel Type')\n",
    "plt.ylabel('Count of Fuel Type')\n",
    "plt.title('Simple Histogram of Fuel Type Counts')\n",
    "plt.show()"
   ]
  },
  {
   "cell_type": "markdown",
   "metadata": {},
   "source": [
    "## Plant Names Statistics\n",
    "\n",
    "This cell below illustrates some aggregate statistics about the unique\n",
    "plant names based on numeric features of the dataset. This include aggregates\n",
    "such as sum of fuel quantity burned by each plant, the minimum and maximum \n",
    "fuel quantity burned by each plant as well as the average fuel quantity that \n",
    "has been burned by each plant. The result shows that sabine has burned the highest\n",
    "quantity of fuel of the years"
   ]
  },
  {
   "cell_type": "code",
   "execution_count": 11,
   "metadata": {},
   "outputs": [
    {
     "data": {
      "text/html": [
       "<div>\n",
       "<style scoped>\n",
       "    .dataframe tbody tr th:only-of-type {\n",
       "        vertical-align: middle;\n",
       "    }\n",
       "\n",
       "    .dataframe tbody tr th {\n",
       "        vertical-align: top;\n",
       "    }\n",
       "\n",
       "    .dataframe thead th {\n",
       "        text-align: right;\n",
       "    }\n",
       "</style>\n",
       "<table border=\"1\" class=\"dataframe\">\n",
       "  <thead>\n",
       "    <tr style=\"text-align: right;\">\n",
       "      <th></th>\n",
       "      <th>Count</th>\n",
       "      <th>Total_Amount</th>\n",
       "      <th>Max_fuel_brnt</th>\n",
       "      <th>Min_fuel_brnt</th>\n",
       "      <th>Avrg_fuel_brnt</th>\n",
       "    </tr>\n",
       "    <tr>\n",
       "      <th>plant_name_ferc1</th>\n",
       "      <th></th>\n",
       "      <th></th>\n",
       "      <th></th>\n",
       "      <th></th>\n",
       "      <th></th>\n",
       "    </tr>\n",
       "  </thead>\n",
       "  <tbody>\n",
       "    <tr>\n",
       "      <th>sabine</th>\n",
       "      <td>40</td>\n",
       "      <td>1.527383e+09</td>\n",
       "      <td>99053235.0</td>\n",
       "      <td>25.0</td>\n",
       "      <td>3.818457e+07</td>\n",
       "    </tr>\n",
       "    <tr>\n",
       "      <th>sanford</th>\n",
       "      <td>36</td>\n",
       "      <td>1.293785e+09</td>\n",
       "      <td>93498730.0</td>\n",
       "      <td>44605.0</td>\n",
       "      <td>3.593848e+07</td>\n",
       "    </tr>\n",
       "    <tr>\n",
       "      <th>ninemile point</th>\n",
       "      <td>35</td>\n",
       "      <td>1.290046e+09</td>\n",
       "      <td>80430230.0</td>\n",
       "      <td>10803.0</td>\n",
       "      <td>3.685846e+07</td>\n",
       "    </tr>\n",
       "    <tr>\n",
       "      <th>martin</th>\n",
       "      <td>58</td>\n",
       "      <td>1.142015e+09</td>\n",
       "      <td>52011308.0</td>\n",
       "      <td>22447.0</td>\n",
       "      <td>1.968992e+07</td>\n",
       "    </tr>\n",
       "    <tr>\n",
       "      <th>hines energy complex</th>\n",
       "      <td>27</td>\n",
       "      <td>1.133638e+09</td>\n",
       "      <td>93686619.0</td>\n",
       "      <td>45.0</td>\n",
       "      <td>4.198659e+07</td>\n",
       "    </tr>\n",
       "  </tbody>\n",
       "</table>\n",
       "</div>"
      ],
      "text/plain": [
       "                      Count  Total_Amount  Max_fuel_brnt  Min_fuel_brnt  \\\n",
       "plant_name_ferc1                                                          \n",
       "sabine                   40  1.527383e+09     99053235.0           25.0   \n",
       "sanford                  36  1.293785e+09     93498730.0        44605.0   \n",
       "ninemile point           35  1.290046e+09     80430230.0        10803.0   \n",
       "martin                   58  1.142015e+09     52011308.0        22447.0   \n",
       "hines energy complex     27  1.133638e+09     93686619.0           45.0   \n",
       "\n",
       "                      Avrg_fuel_brnt  \n",
       "plant_name_ferc1                      \n",
       "sabine                  3.818457e+07  \n",
       "sanford                 3.593848e+07  \n",
       "ninemile point          3.685846e+07  \n",
       "martin                  1.968992e+07  \n",
       "hines energy complex    4.198659e+07  "
      ]
     },
     "execution_count": 11,
     "metadata": {},
     "output_type": "execute_result"
    }
   ],
   "source": [
    "plant_name_data = (df1.groupby('plant_name_ferc1').agg(Count=('fuel_qty_burned','count'),\n",
    "                                    Total_Amount=('fuel_qty_burned','sum'),\n",
    "                                    Max_fuel_brnt=('fuel_qty_burned','max'),\n",
    "                                    Min_fuel_brnt=('fuel_qty_burned','min'),\n",
    "                                    Avrg_fuel_brnt=('fuel_qty_burned','mean'))\n",
    "                                    .sort_values(by='Total_Amount',ascending=False)\n",
    "                                 \n",
    "                    )\n",
    "\n",
    "plant_name_data.head()"
   ]
  },
  {
   "cell_type": "markdown",
   "metadata": {},
   "source": [
    "## Solution to Question 1"
   ]
  },
  {
   "cell_type": "code",
   "execution_count": 12,
   "metadata": {},
   "outputs": [
    {
     "data": {
      "text/plain": [
       "[1, 2, 3, 5, 6, 13, 21, 34]"
      ]
     },
     "execution_count": 12,
     "metadata": {},
     "output_type": "execute_result"
    }
   ],
   "source": [
    "A=[1,2,3,5,6]\n",
    "B=[13,21,34]\n",
    "A.extend(B)\n",
    "\n",
    "\n",
    "A"
   ]
  },
  {
   "cell_type": "markdown",
   "metadata": {},
   "source": [
    "## Solution to Question 2\n",
    "\n",
    "Creating an identity matrix in python using numpy library"
   ]
  },
  {
   "cell_type": "code",
   "execution_count": 13,
   "metadata": {},
   "outputs": [
    {
     "data": {
      "text/plain": [
       "array([[1., 0., 0.],\n",
       "       [0., 1., 0.],\n",
       "       [0., 0., 1.]])"
      ]
     },
     "execution_count": 13,
     "metadata": {},
     "output_type": "execute_result"
    }
   ],
   "source": [
    "np.identity(3)"
   ]
  },
  {
   "cell_type": "markdown",
   "metadata": {},
   "source": [
    "## Solution to Question 3\n",
    "\n",
    "Gas is the fuel type that has the lowest average fuel cost per unit burned is as shown below."
   ]
  },
  {
   "cell_type": "code",
   "execution_count": 14,
   "metadata": {},
   "outputs": [
    {
     "data": {
      "text/html": [
       "<div>\n",
       "<style scoped>\n",
       "    .dataframe tbody tr th:only-of-type {\n",
       "        vertical-align: middle;\n",
       "    }\n",
       "\n",
       "    .dataframe tbody tr th {\n",
       "        vertical-align: top;\n",
       "    }\n",
       "\n",
       "    .dataframe thead th {\n",
       "        text-align: right;\n",
       "    }\n",
       "</style>\n",
       "<table border=\"1\" class=\"dataframe\">\n",
       "  <thead>\n",
       "    <tr style=\"text-align: right;\">\n",
       "      <th></th>\n",
       "      <th>Avg_fuel_cost_per_unit_burned</th>\n",
       "    </tr>\n",
       "    <tr>\n",
       "      <th>fuel_type_code_pudl</th>\n",
       "      <th></th>\n",
       "    </tr>\n",
       "  </thead>\n",
       "  <tbody>\n",
       "    <tr>\n",
       "      <th>gas</th>\n",
       "      <td>13.664009</td>\n",
       "    </tr>\n",
       "    <tr>\n",
       "      <th>other</th>\n",
       "      <td>18.253856</td>\n",
       "    </tr>\n",
       "    <tr>\n",
       "      <th>waste</th>\n",
       "      <td>19.549459</td>\n",
       "    </tr>\n",
       "    <tr>\n",
       "      <th>coal</th>\n",
       "      <td>67.434027</td>\n",
       "    </tr>\n",
       "    <tr>\n",
       "      <th>oil</th>\n",
       "      <td>168.893866</td>\n",
       "    </tr>\n",
       "    <tr>\n",
       "      <th>nuclear</th>\n",
       "      <td>4955.157002</td>\n",
       "    </tr>\n",
       "  </tbody>\n",
       "</table>\n",
       "</div>"
      ],
      "text/plain": [
       "                     Avg_fuel_cost_per_unit_burned\n",
       "fuel_type_code_pudl                               \n",
       "gas                                      13.664009\n",
       "other                                    18.253856\n",
       "waste                                    19.549459\n",
       "coal                                     67.434027\n",
       "oil                                     168.893866\n",
       "nuclear                                4955.157002"
      ]
     },
     "execution_count": 14,
     "metadata": {},
     "output_type": "execute_result"
    }
   ],
   "source": [
    "(df1.groupby(['fuel_type_code_pudl']).agg( \n",
    "                                        Avg_fuel_cost_per_unit_burned = ('fuel_cost_per_unit_burned','mean'))\n",
    "                                        .sort_values(by='Avg_fuel_cost_per_unit_burned',ascending=True)\n",
    ")"
   ]
  },
  {
   "cell_type": "markdown",
   "metadata": {},
   "source": [
    "## Solution to Question 4\n",
    "\n",
    "The Standard Deviation and 75th percentile of the measure of energy per unit (fuel_mmbtu_per_unit) feature of the dataset is found as given below"
   ]
  },
  {
   "cell_type": "code",
   "execution_count": 15,
   "metadata": {},
   "outputs": [
    {
     "data": {
      "text/plain": [
       "count    29523.00\n",
       "mean         8.49\n",
       "std         10.60\n",
       "min          0.00\n",
       "25%          1.02\n",
       "50%          5.76\n",
       "75%         17.01\n",
       "max        341.26\n",
       "Name: fuel_mmbtu_per_unit, dtype: float64"
      ]
     },
     "execution_count": 15,
     "metadata": {},
     "output_type": "execute_result"
    }
   ],
   "source": [
    "round(df['fuel_mmbtu_per_unit'].describe(),2)"
   ]
  },
  {
   "cell_type": "markdown",
   "metadata": {},
   "source": [
    "## Solution to Question 5\n",
    "\n",
    "The skewness and kurtosis of the fuel quantity burned"
   ]
  },
  {
   "cell_type": "code",
   "execution_count": 16,
   "metadata": {},
   "outputs": [
    {
     "name": "stdout",
     "output_type": "stream",
     "text": [
      " Skewness : 15.85 \n",
      " Kurtosis : 651.37\n"
     ]
    }
   ],
   "source": [
    "#Kurtosis value for the fuel quantity burned\n",
    "kurt = round(df.kurtosis()[2],2)\n",
    "kurt\n",
    "\n",
    "#Skewness value for the fuel quantity burned\n",
    "skew = round(df.skew()[2],2)\n",
    "\n",
    "print(' Skewness :',skew, '\\n','Kurtosis :',kurt)"
   ]
  },
  {
   "cell_type": "markdown",
   "metadata": {},
   "source": [
    "## Solution to Question 6\n",
    "\n",
    "Which feature has missing values, the total number of missing values and the percentage of missing rows as a factor of total number of rows "
   ]
  },
  {
   "cell_type": "code",
   "execution_count": 17,
   "metadata": {},
   "outputs": [
    {
     "name": "stdout",
     "output_type": "stream",
     "text": [
      "utility_id_ferc1                  0\n",
      "report_year                       0\n",
      "plant_name_ferc1                  0\n",
      "fuel_type_code_pudl               0\n",
      "fuel_unit                       180\n",
      "fuel_qty_burned                   0\n",
      "fuel_mmbtu_per_unit               0\n",
      "fuel_cost_per_unit_burned         0\n",
      "fuel_cost_per_unit_delivered      0\n",
      "fuel_cost_per_mmbtu               0\n",
      "dtype: int64\n",
      "\n",
      "\n",
      "The percentage of missing value as a factor of the total number of rows is : 0.61 %\n"
     ]
    }
   ],
   "source": [
    "print(df.isnull().sum())\n",
    "\n",
    "print(\"\\n\")\n",
    "\n",
    "print('The percentage of missing value as a factor of the total number of rows is :'\n",
    "                                        ,round((df['fuel_unit'].isnull().sum()/len(df['fuel_unit']))*100,3),'%')"
   ]
  },
  {
   "cell_type": "markdown",
   "metadata": {},
   "source": [
    "## Solution to Question 7\n",
    "\n",
    "The feature with the missing data above falls under object/categorical/Non-numeric data and the imputation technique to use is the mode as shown below"
   ]
  },
  {
   "cell_type": "code",
   "execution_count": 18,
   "metadata": {},
   "outputs": [
    {
     "name": "stdout",
     "output_type": "stream",
     "text": [
      "The feature with the missing data is of type : object\n",
      "\n",
      "\n",
      "0    mcf\n",
      "dtype: object\n"
     ]
    }
   ],
   "source": [
    "print('The feature with the missing data is of type :',df1['fuel_unit'].dtypes)\n",
    "print('\\n')\n",
    "print(df1['fuel_unit'].mode())"
   ]
  },
  {
   "cell_type": "code",
   "execution_count": 19,
   "metadata": {},
   "outputs": [
    {
     "data": {
      "text/html": [
       "<div>\n",
       "<style scoped>\n",
       "    .dataframe tbody tr th:only-of-type {\n",
       "        vertical-align: middle;\n",
       "    }\n",
       "\n",
       "    .dataframe tbody tr th {\n",
       "        vertical-align: top;\n",
       "    }\n",
       "\n",
       "    .dataframe thead th {\n",
       "        text-align: right;\n",
       "    }\n",
       "</style>\n",
       "<table border=\"1\" class=\"dataframe\">\n",
       "  <thead>\n",
       "    <tr style=\"text-align: right;\">\n",
       "      <th></th>\n",
       "      <th>utility_id_ferc1</th>\n",
       "      <th>report_year</th>\n",
       "      <th>plant_name_ferc1</th>\n",
       "      <th>fuel_type_code_pudl</th>\n",
       "      <th>fuel_unit</th>\n",
       "      <th>fuel_qty_burned</th>\n",
       "      <th>fuel_mmbtu_per_unit</th>\n",
       "      <th>fuel_cost_per_unit_burned</th>\n",
       "      <th>fuel_cost_per_unit_delivered</th>\n",
       "      <th>fuel_cost_per_mmbtu</th>\n",
       "    </tr>\n",
       "    <tr>\n",
       "      <th>record_id</th>\n",
       "      <th></th>\n",
       "      <th></th>\n",
       "      <th></th>\n",
       "      <th></th>\n",
       "      <th></th>\n",
       "      <th></th>\n",
       "      <th></th>\n",
       "      <th></th>\n",
       "      <th></th>\n",
       "      <th></th>\n",
       "    </tr>\n",
       "  </thead>\n",
       "  <tbody>\n",
       "  </tbody>\n",
       "</table>\n",
       "</div>"
      ],
      "text/plain": [
       "Empty DataFrame\n",
       "Columns: [utility_id_ferc1, report_year, plant_name_ferc1, fuel_type_code_pudl, fuel_unit, fuel_qty_burned, fuel_mmbtu_per_unit, fuel_cost_per_unit_burned, fuel_cost_per_unit_delivered, fuel_cost_per_mmbtu]\n",
       "Index: []"
      ]
     },
     "execution_count": 19,
     "metadata": {},
     "output_type": "execute_result"
    }
   ],
   "source": [
    "# This code populates the missing values in the dataset\n",
    "df1 = df1.fillna(value='mcf')\n",
    "\n",
    "# This line checks to see if there are still any missing value, which obviously returned an empty dataframe\n",
    "df1[df1['fuel_unit'].isnull()]"
   ]
  },
  {
   "cell_type": "markdown",
   "metadata": {},
   "source": [
    "## Solution to Question 8\n",
    "\n",
    "The feature with the second and third lowest correlation with the Fuel Cost Per Unit Burned are the fuel quantity burned and fuel mmbtu per unit"
   ]
  },
  {
   "cell_type": "code",
   "execution_count": 20,
   "metadata": {},
   "outputs": [
    {
     "data": {
      "text/html": [
       "<div>\n",
       "<style scoped>\n",
       "    .dataframe tbody tr th:only-of-type {\n",
       "        vertical-align: middle;\n",
       "    }\n",
       "\n",
       "    .dataframe tbody tr th {\n",
       "        vertical-align: top;\n",
       "    }\n",
       "\n",
       "    .dataframe thead th {\n",
       "        text-align: right;\n",
       "    }\n",
       "</style>\n",
       "<table border=\"1\" class=\"dataframe\">\n",
       "  <thead>\n",
       "    <tr style=\"text-align: right;\">\n",
       "      <th></th>\n",
       "      <th>fuel_qty_burned</th>\n",
       "      <th>fuel_mmbtu_per_unit</th>\n",
       "      <th>fuel_cost_per_unit_burned</th>\n",
       "      <th>fuel_cost_per_unit_delivered</th>\n",
       "      <th>fuel_cost_per_mmbtu</th>\n",
       "    </tr>\n",
       "  </thead>\n",
       "  <tbody>\n",
       "    <tr>\n",
       "      <th>fuel_cost_per_unit_burned</th>\n",
       "      <td>-0.018540</td>\n",
       "      <td>-0.010039</td>\n",
       "      <td>1.000000</td>\n",
       "      <td>0.011007</td>\n",
       "      <td>-0.000437</td>\n",
       "    </tr>\n",
       "    <tr>\n",
       "      <th>fuel_cost_per_unit_delivered</th>\n",
       "      <td>-0.003552</td>\n",
       "      <td>-0.009041</td>\n",
       "      <td>0.011007</td>\n",
       "      <td>1.000000</td>\n",
       "      <td>-0.000109</td>\n",
       "    </tr>\n",
       "    <tr>\n",
       "      <th>fuel_cost_per_mmbtu</th>\n",
       "      <td>-0.001897</td>\n",
       "      <td>-0.005885</td>\n",
       "      <td>-0.000437</td>\n",
       "      <td>-0.000109</td>\n",
       "      <td>1.000000</td>\n",
       "    </tr>\n",
       "    <tr>\n",
       "      <th>fuel_mmbtu_per_unit</th>\n",
       "      <td>-0.080963</td>\n",
       "      <td>1.000000</td>\n",
       "      <td>-0.010039</td>\n",
       "      <td>-0.009041</td>\n",
       "      <td>-0.005885</td>\n",
       "    </tr>\n",
       "    <tr>\n",
       "      <th>fuel_qty_burned</th>\n",
       "      <td>1.000000</td>\n",
       "      <td>-0.080963</td>\n",
       "      <td>-0.018540</td>\n",
       "      <td>-0.003552</td>\n",
       "      <td>-0.001897</td>\n",
       "    </tr>\n",
       "  </tbody>\n",
       "</table>\n",
       "</div>"
      ],
      "text/plain": [
       "                              fuel_qty_burned  fuel_mmbtu_per_unit  \\\n",
       "fuel_cost_per_unit_burned           -0.018540            -0.010039   \n",
       "fuel_cost_per_unit_delivered        -0.003552            -0.009041   \n",
       "fuel_cost_per_mmbtu                 -0.001897            -0.005885   \n",
       "fuel_mmbtu_per_unit                 -0.080963             1.000000   \n",
       "fuel_qty_burned                      1.000000            -0.080963   \n",
       "\n",
       "                              fuel_cost_per_unit_burned  \\\n",
       "fuel_cost_per_unit_burned                      1.000000   \n",
       "fuel_cost_per_unit_delivered                   0.011007   \n",
       "fuel_cost_per_mmbtu                           -0.000437   \n",
       "fuel_mmbtu_per_unit                           -0.010039   \n",
       "fuel_qty_burned                               -0.018540   \n",
       "\n",
       "                              fuel_cost_per_unit_delivered  \\\n",
       "fuel_cost_per_unit_burned                         0.011007   \n",
       "fuel_cost_per_unit_delivered                      1.000000   \n",
       "fuel_cost_per_mmbtu                              -0.000109   \n",
       "fuel_mmbtu_per_unit                              -0.009041   \n",
       "fuel_qty_burned                                  -0.003552   \n",
       "\n",
       "                              fuel_cost_per_mmbtu  \n",
       "fuel_cost_per_unit_burned               -0.000437  \n",
       "fuel_cost_per_unit_delivered            -0.000109  \n",
       "fuel_cost_per_mmbtu                      1.000000  \n",
       "fuel_mmbtu_per_unit                     -0.005885  \n",
       "fuel_qty_burned                         -0.001897  "
      ]
     },
     "execution_count": 20,
     "metadata": {},
     "output_type": "execute_result"
    }
   ],
   "source": [
    "df2 = df1.drop(['utility_id_ferc1','report_year'],axis=1)\n",
    "\n",
    "(df2.corr()\n",
    "        .sort_values(by='fuel_cost_per_unit_burned',ascending=False)\n",
    ")"
   ]
  },
  {
   "cell_type": "markdown",
   "metadata": {},
   "source": [
    "## Solution to Question 9\n",
    "\n",
    "For the fuel type coal, the percentage change in the fuel cost per unit burned in 1998 compared to 1994 is provided below"
   ]
  },
  {
   "cell_type": "code",
   "execution_count": 25,
   "metadata": {},
   "outputs": [
    {
     "name": "stdout",
     "output_type": "stream",
     "text": [
      "The percentage change of coal in 1998 compared to 1994 is : -21 %\n"
     ]
    }
   ],
   "source": [
    "# A subset dataset of only coal fuel type\n",
    "coal_data = df1.loc[df1['fuel_type_code_pudl']=='coal']\n",
    "\n",
    "# Grouping the coal_data above by their reported years\n",
    "grp_coal = coal_data.groupby('report_year').sum()\n",
    "\n",
    "# Selecting the appropriate years needed for our analysis \n",
    "# and saving them in two separate variables\n",
    "year_1,year_2 = grp_coal.loc[[1994,1998],'fuel_cost_per_unit_burned']\n",
    "\n",
    "# Perform the percentage change in the coal fuel type mathematically\n",
    "coal_percentage_change = ((year_2-year_1)/year_1)*100\n",
    "print('The percentage change of coal in 1998 compared to 1994 is :',round(coal_percentage_change),'%')"
   ]
  },
  {
   "cell_type": "markdown",
   "metadata": {},
   "source": [
    "## Solution to Question 10\n",
    "\n",
    "The year with the highest average fuel cost per unit delivered is "
   ]
  },
  {
   "cell_type": "code",
   "execution_count": 22,
   "metadata": {},
   "outputs": [
    {
     "name": "stdout",
     "output_type": "stream",
     "text": [
      "The year with the highest average fuel cost per unit delivered was : 1997\n"
     ]
    }
   ],
   "source": [
    "avg_fuel_cost = (df1.groupby('report_year')\n",
    "                 .agg(Avrg_fuel_cost_per_unt_delivered=('fuel_cost_per_unit_delivered','mean'))\n",
    "                 .sort_values(by='Avrg_fuel_cost_per_unt_delivered',ascending=False)\n",
    "                )\n",
    "\n",
    "avg_fuelcost_year = avg_fuel_cost.index[0]\n",
    "print('The year with the highest average fuel cost per unit delivered was :',avg_fuelcost_year)"
   ]
  },
  {
   "cell_type": "code",
   "execution_count": null,
   "metadata": {},
   "outputs": [],
   "source": []
  }
 ],
 "metadata": {
  "kernelspec": {
   "display_name": "Python 3",
   "language": "python",
   "name": "python3"
  },
  "language_info": {
   "codemirror_mode": {
    "name": "ipython",
    "version": 3
   },
   "file_extension": ".py",
   "mimetype": "text/x-python",
   "name": "python",
   "nbconvert_exporter": "python",
   "pygments_lexer": "ipython3",
   "version": "3.7.6"
  }
 },
 "nbformat": 4,
 "nbformat_minor": 4
}
